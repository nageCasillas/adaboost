{
 "cells": [
  {
   "cell_type": "code",
   "execution_count": 1,
   "id": "2a280462-0b00-4f7e-a733-283ecc2d9d41",
   "metadata": {},
   "outputs": [],
   "source": [
    "import pandas as pd\n",
    "import numpy as np\n",
    "import matplotlib.pyplot as plt"
   ]
  },
  {
   "cell_type": "code",
   "execution_count": 2,
   "id": "bbd7f687-a943-4da1-9fff-107312630411",
   "metadata": {},
   "outputs": [],
   "source": [
    "df = pd.read_csv(\"data/cardekho_dataset.csv\", index_col=[0])"
   ]
  },
  {
   "cell_type": "code",
   "execution_count": 3,
   "id": "7e24e1f7-e474-4b4c-ae25-45f063437c59",
   "metadata": {},
   "outputs": [
    {
     "data": {
      "text/html": [
       "<div>\n",
       "<style scoped>\n",
       "    .dataframe tbody tr th:only-of-type {\n",
       "        vertical-align: middle;\n",
       "    }\n",
       "\n",
       "    .dataframe tbody tr th {\n",
       "        vertical-align: top;\n",
       "    }\n",
       "\n",
       "    .dataframe thead th {\n",
       "        text-align: right;\n",
       "    }\n",
       "</style>\n",
       "<table border=\"1\" class=\"dataframe\">\n",
       "  <thead>\n",
       "    <tr style=\"text-align: right;\">\n",
       "      <th></th>\n",
       "      <th>car_name</th>\n",
       "      <th>brand</th>\n",
       "      <th>model</th>\n",
       "      <th>vehicle_age</th>\n",
       "      <th>km_driven</th>\n",
       "      <th>seller_type</th>\n",
       "      <th>fuel_type</th>\n",
       "      <th>transmission_type</th>\n",
       "      <th>mileage</th>\n",
       "      <th>engine</th>\n",
       "      <th>max_power</th>\n",
       "      <th>seats</th>\n",
       "      <th>selling_price</th>\n",
       "    </tr>\n",
       "  </thead>\n",
       "  <tbody>\n",
       "    <tr>\n",
       "      <th>0</th>\n",
       "      <td>Maruti Alto</td>\n",
       "      <td>Maruti</td>\n",
       "      <td>Alto</td>\n",
       "      <td>9</td>\n",
       "      <td>120000</td>\n",
       "      <td>Individual</td>\n",
       "      <td>Petrol</td>\n",
       "      <td>Manual</td>\n",
       "      <td>19.7</td>\n",
       "      <td>796</td>\n",
       "      <td>46.3</td>\n",
       "      <td>5</td>\n",
       "      <td>120000</td>\n",
       "    </tr>\n",
       "    <tr>\n",
       "      <th>1</th>\n",
       "      <td>Hyundai Grand</td>\n",
       "      <td>Hyundai</td>\n",
       "      <td>Grand</td>\n",
       "      <td>5</td>\n",
       "      <td>20000</td>\n",
       "      <td>Individual</td>\n",
       "      <td>Petrol</td>\n",
       "      <td>Manual</td>\n",
       "      <td>18.9</td>\n",
       "      <td>1197</td>\n",
       "      <td>82.0</td>\n",
       "      <td>5</td>\n",
       "      <td>550000</td>\n",
       "    </tr>\n",
       "  </tbody>\n",
       "</table>\n",
       "</div>"
      ],
      "text/plain": [
       "        car_name    brand  model  vehicle_age  km_driven seller_type  \\\n",
       "0    Maruti Alto   Maruti   Alto            9     120000  Individual   \n",
       "1  Hyundai Grand  Hyundai  Grand            5      20000  Individual   \n",
       "\n",
       "  fuel_type transmission_type  mileage  engine  max_power  seats  \\\n",
       "0    Petrol            Manual     19.7     796       46.3      5   \n",
       "1    Petrol            Manual     18.9    1197       82.0      5   \n",
       "\n",
       "   selling_price  \n",
       "0         120000  \n",
       "1         550000  "
      ]
     },
     "execution_count": 3,
     "metadata": {},
     "output_type": "execute_result"
    }
   ],
   "source": [
    "df.head(2)"
   ]
  },
  {
   "cell_type": "code",
   "execution_count": 4,
   "id": "e763bd51-7437-4c9e-9992-28431ce5b5b6",
   "metadata": {},
   "outputs": [
    {
     "data": {
      "text/plain": [
       "(15411, 13)"
      ]
     },
     "execution_count": 4,
     "metadata": {},
     "output_type": "execute_result"
    }
   ],
   "source": [
    "df.shape"
   ]
  },
  {
   "cell_type": "code",
   "execution_count": 5,
   "id": "ec4b7b93-ce63-4da1-93d3-7185d26ce2e2",
   "metadata": {},
   "outputs": [
    {
     "data": {
      "text/plain": [
       "car_name              object\n",
       "brand                 object\n",
       "model                 object\n",
       "vehicle_age            int64\n",
       "km_driven              int64\n",
       "seller_type           object\n",
       "fuel_type             object\n",
       "transmission_type     object\n",
       "mileage              float64\n",
       "engine                 int64\n",
       "max_power            float64\n",
       "seats                  int64\n",
       "selling_price          int64\n",
       "dtype: object"
      ]
     },
     "execution_count": 5,
     "metadata": {},
     "output_type": "execute_result"
    }
   ],
   "source": [
    "df.dtypes"
   ]
  },
  {
   "cell_type": "code",
   "execution_count": 6,
   "id": "38c5dcf7-c4a3-4f83-86e6-7d6d1b2111be",
   "metadata": {},
   "outputs": [
    {
     "data": {
      "text/plain": [
       "car_name             0\n",
       "brand                0\n",
       "model                0\n",
       "vehicle_age          0\n",
       "km_driven            0\n",
       "seller_type          0\n",
       "fuel_type            0\n",
       "transmission_type    0\n",
       "mileage              0\n",
       "engine               0\n",
       "max_power            0\n",
       "seats                0\n",
       "selling_price        0\n",
       "dtype: int64"
      ]
     },
     "execution_count": 6,
     "metadata": {},
     "output_type": "execute_result"
    }
   ],
   "source": [
    "df.isnull().sum()"
   ]
  },
  {
   "cell_type": "code",
   "execution_count": 7,
   "id": "9ad90f51-d0f8-4b2d-915f-6b63101dbf89",
   "metadata": {},
   "outputs": [],
   "source": [
    "## Remove Unnecessary Columns\n",
    "df.drop('model', axis=1, inplace=True)\n",
    "df.drop('brand', axis=1, inplace=True)"
   ]
  },
  {
   "cell_type": "code",
   "execution_count": 8,
   "id": "4e554bd0-6d79-4c62-8ffe-a784645555de",
   "metadata": {},
   "outputs": [
    {
     "data": {
      "text/html": [
       "<div>\n",
       "<style scoped>\n",
       "    .dataframe tbody tr th:only-of-type {\n",
       "        vertical-align: middle;\n",
       "    }\n",
       "\n",
       "    .dataframe tbody tr th {\n",
       "        vertical-align: top;\n",
       "    }\n",
       "\n",
       "    .dataframe thead th {\n",
       "        text-align: right;\n",
       "    }\n",
       "</style>\n",
       "<table border=\"1\" class=\"dataframe\">\n",
       "  <thead>\n",
       "    <tr style=\"text-align: right;\">\n",
       "      <th></th>\n",
       "      <th>car_name</th>\n",
       "      <th>vehicle_age</th>\n",
       "      <th>km_driven</th>\n",
       "      <th>seller_type</th>\n",
       "      <th>fuel_type</th>\n",
       "      <th>transmission_type</th>\n",
       "      <th>mileage</th>\n",
       "      <th>engine</th>\n",
       "      <th>max_power</th>\n",
       "      <th>seats</th>\n",
       "      <th>selling_price</th>\n",
       "    </tr>\n",
       "  </thead>\n",
       "  <tbody>\n",
       "    <tr>\n",
       "      <th>0</th>\n",
       "      <td>Maruti Alto</td>\n",
       "      <td>9</td>\n",
       "      <td>120000</td>\n",
       "      <td>Individual</td>\n",
       "      <td>Petrol</td>\n",
       "      <td>Manual</td>\n",
       "      <td>19.7</td>\n",
       "      <td>796</td>\n",
       "      <td>46.3</td>\n",
       "      <td>5</td>\n",
       "      <td>120000</td>\n",
       "    </tr>\n",
       "    <tr>\n",
       "      <th>1</th>\n",
       "      <td>Hyundai Grand</td>\n",
       "      <td>5</td>\n",
       "      <td>20000</td>\n",
       "      <td>Individual</td>\n",
       "      <td>Petrol</td>\n",
       "      <td>Manual</td>\n",
       "      <td>18.9</td>\n",
       "      <td>1197</td>\n",
       "      <td>82.0</td>\n",
       "      <td>5</td>\n",
       "      <td>550000</td>\n",
       "    </tr>\n",
       "  </tbody>\n",
       "</table>\n",
       "</div>"
      ],
      "text/plain": [
       "        car_name  vehicle_age  km_driven seller_type fuel_type  \\\n",
       "0    Maruti Alto            9     120000  Individual    Petrol   \n",
       "1  Hyundai Grand            5      20000  Individual    Petrol   \n",
       "\n",
       "  transmission_type  mileage  engine  max_power  seats  selling_price  \n",
       "0            Manual     19.7     796       46.3      5         120000  \n",
       "1            Manual     18.9    1197       82.0      5         550000  "
      ]
     },
     "execution_count": 8,
     "metadata": {},
     "output_type": "execute_result"
    }
   ],
   "source": [
    "df.head(2)"
   ]
  },
  {
   "cell_type": "code",
   "execution_count": 9,
   "id": "da6d4ab8-82a7-4cbb-9514-5c1c47ac8f8f",
   "metadata": {},
   "outputs": [
    {
     "data": {
      "text/plain": [
       "array(['Maruti Alto', 'Hyundai Grand', 'Hyundai i20', 'Ford Ecosport',\n",
       "       'Maruti Wagon R', 'Hyundai i10', 'Hyundai Venue', 'Maruti Swift',\n",
       "       'Hyundai Verna', 'Renault Duster', 'Mini Cooper', 'Maruti Ciaz',\n",
       "       'Mercedes-Benz C-Class', 'Toyota Innova', 'Maruti Baleno',\n",
       "       'Maruti Swift Dzire', 'Volkswagen Vento', 'Hyundai Creta',\n",
       "       'Honda City', 'Mahindra Bolero', 'Toyota Fortuner', 'Renault KWID',\n",
       "       'Honda Amaze', 'Hyundai Santro', 'Mahindra XUV500',\n",
       "       'Mahindra KUV100', 'Maruti Ignis', 'Datsun RediGO',\n",
       "       'Mahindra Scorpio', 'Mahindra Marazzo', 'Ford Aspire', 'Ford Figo',\n",
       "       'Maruti Vitara', 'Tata Tiago', 'Volkswagen Polo', 'Kia Seltos',\n",
       "       'Maruti Celerio', 'Datsun GO', 'BMW 5', 'Honda CR-V',\n",
       "       'Ford Endeavour', 'Mahindra KUV', 'Honda Jazz', 'BMW 3', 'Audi A4',\n",
       "       'Tata Tigor', 'Maruti Ertiga', 'Tata Safari', 'Mahindra Thar',\n",
       "       'Tata Hexa', 'Land Rover Rover', 'Maruti Eeco', 'Audi A6',\n",
       "       'Mercedes-Benz E-Class', 'Audi Q7', 'BMW Z4', 'BMW 6', 'Jaguar XF',\n",
       "       'BMW X5', 'MG Hector', 'Honda Civic', 'Isuzu D-Max',\n",
       "       'Porsche Cayenne', 'BMW X1', 'Skoda Rapid', 'Ford Freestyle',\n",
       "       'Skoda Superb', 'Tata Nexon', 'Mahindra XUV300',\n",
       "       'Maruti Dzire VXI', 'Volvo S90', 'Honda WR-V', 'Maruti XL6',\n",
       "       'Renault Triber', 'Lexus ES', 'Jeep Wrangler', 'Toyota Camry',\n",
       "       'Hyundai Elantra', 'Toyota Yaris', 'Mercedes-Benz GL-Class',\n",
       "       'BMW 7', 'Maruti S-Presso', 'Maruti Dzire LXI', 'Hyundai Aura',\n",
       "       'Volvo XC', 'Maserati Ghibli', 'Bentley Continental', 'Honda CR',\n",
       "       'Nissan Kicks', 'Mercedes-Benz S-Class', 'Hyundai Tucson',\n",
       "       'Tata Harrier', 'BMW X3', 'Skoda Octavia', 'Jeep Compass',\n",
       "       'Mercedes-Benz CLS', 'Datsun redi-GO', 'Toyota Glanza',\n",
       "       'Porsche Macan', 'BMW X4', 'Maruti Dzire ZXI', 'Volvo XC90',\n",
       "       'Jaguar F-PACE', 'Audi A8', 'ISUZU MUX', 'Ferrari GTC4Lusso',\n",
       "       'Mercedes-Benz GLS', 'Nissan X-Trail', 'Jaguar XE', 'Volvo XC60',\n",
       "       'Porsche Panamera', 'Mahindra Alturas', 'Tata Altroz', 'Lexus NX',\n",
       "       'Kia Carnival', 'Mercedes-AMG C', 'Lexus RX', 'Rolls-Royce Ghost',\n",
       "       'Maserati Quattroporte', 'Isuzu MUX', 'Force Gurkha'], dtype=object)"
      ]
     },
     "execution_count": 9,
     "metadata": {},
     "output_type": "execute_result"
    }
   ],
   "source": [
    "df['car_name'].unique()"
   ]
  },
  {
   "cell_type": "code",
   "execution_count": 10,
   "id": "60adb24e-f33a-45a3-81b3-9a9e1030a0ec",
   "metadata": {},
   "outputs": [
    {
     "data": {
      "text/plain": [
       "121"
      ]
     },
     "execution_count": 10,
     "metadata": {},
     "output_type": "execute_result"
    }
   ],
   "source": [
    "len(df['car_name'].unique())"
   ]
  },
  {
   "cell_type": "code",
   "execution_count": 11,
   "id": "55e852ef-4a78-4c9b-b02c-8706d826ad97",
   "metadata": {},
   "outputs": [
    {
     "data": {
      "text/plain": [
       "car_name\n",
       "Hyundai i20              906\n",
       "Maruti Swift Dzire       890\n",
       "Maruti Swift             781\n",
       "Maruti Alto              778\n",
       "Honda City               757\n",
       "                        ... \n",
       "Mercedes-AMG C             1\n",
       "Rolls-Royce Ghost          1\n",
       "Maserati Quattroporte      1\n",
       "Isuzu MUX                  1\n",
       "Force Gurkha               1\n",
       "Name: count, Length: 121, dtype: int64"
      ]
     },
     "execution_count": 11,
     "metadata": {},
     "output_type": "execute_result"
    }
   ],
   "source": [
    "df['car_name'].value_counts()"
   ]
  },
  {
   "cell_type": "code",
   "execution_count": 12,
   "id": "5fb1b748-e11a-4549-a01c-9dfb4c76b4bd",
   "metadata": {},
   "outputs": [],
   "source": [
    "# Create a copy of the series\n",
    "car_counts = df['car_name'].value_counts()"
   ]
  },
  {
   "cell_type": "code",
   "execution_count": 13,
   "id": "03baf716-d950-4110-9a3a-f9433d744d65",
   "metadata": {},
   "outputs": [
    {
     "name": "stdout",
     "output_type": "stream",
     "text": [
      "car_name\n",
      "Hyundai i20           906\n",
      "Maruti Swift Dzire    890\n",
      "Maruti Swift          781\n",
      "Maruti Alto           778\n",
      "Honda City            757\n",
      "                     ... \n",
      "Maruti S-Presso        13\n",
      "Renault Triber         12\n",
      "Mercedes-Benz GLS      12\n",
      "Hyundai Tucson         10\n",
      "Datsun redi-GO         10\n",
      "Name: count, Length: 85, dtype: int64\n"
     ]
    }
   ],
   "source": [
    "df['car_name'] = np.where(df['car_name'].map(car_counts) < 10, 'Others', df['car_name'])\n",
    "print(df['car_name'].value_counts())"
   ]
  },
  {
   "cell_type": "code",
   "execution_count": 14,
   "id": "8891e910-d219-4d60-9154-695e1a6f473d",
   "metadata": {},
   "outputs": [],
   "source": [
    "from sklearn.model_selection import train_test_split\n",
    "X = df.drop(['selling_price'], axis=1)\n",
    "y = df['selling_price']"
   ]
  },
  {
   "cell_type": "code",
   "execution_count": 15,
   "id": "aea3709b-9109-49c1-abb3-ddbd3d36ae8e",
   "metadata": {},
   "outputs": [
    {
     "data": {
      "text/plain": [
       "((12328, 10), (3083, 10))"
      ]
     },
     "execution_count": 15,
     "metadata": {},
     "output_type": "execute_result"
    }
   ],
   "source": [
    "# separate dataset into train and test\n",
    "X_train, X_test, y_train, y_test = train_test_split(X,y,test_size=0.2,random_state=42)\n",
    "X_train.shape, X_test.shape"
   ]
  },
  {
   "cell_type": "code",
   "execution_count": 16,
   "id": "deee8efc-cad3-4914-b3b6-bf246e6a42f8",
   "metadata": {},
   "outputs": [],
   "source": [
    "from sklearn.preprocessing import LabelEncoder\n",
    "le=LabelEncoder()\n",
    "X_train['car_name']=le.fit_transform(X_train['car_name'])"
   ]
  },
  {
   "cell_type": "code",
   "execution_count": 17,
   "id": "bbd4c05f-ad74-4961-a54c-19a678077a3b",
   "metadata": {},
   "outputs": [],
   "source": [
    "X_test['car_name']=le.transform(X_test['car_name']) "
   ]
  },
  {
   "cell_type": "code",
   "execution_count": 18,
   "id": "4797fbd4-80cc-47a9-bb0a-e33e910c5af6",
   "metadata": {},
   "outputs": [
    {
     "data": {
      "text/plain": [
       "(3, 5, 2)"
      ]
     },
     "execution_count": 18,
     "metadata": {},
     "output_type": "execute_result"
    }
   ],
   "source": [
    "len(df['seller_type'].unique()),len(df['fuel_type'].unique()),len(df['transmission_type'].unique())"
   ]
  },
  {
   "cell_type": "code",
   "execution_count": 19,
   "id": "84435de1-611c-4116-8739-0bfe0e2dbcb7",
   "metadata": {},
   "outputs": [],
   "source": [
    "# Create Column Transformer with 3 types of transformers\n",
    "num_features = X.select_dtypes(exclude=\"object\").columns\n",
    "onehot_columns = ['seller_type','fuel_type','transmission_type']\n",
    "\n",
    "from sklearn.preprocessing import OneHotEncoder, StandardScaler\n",
    "from sklearn.compose import ColumnTransformer\n",
    "\n",
    "numeric_transformer = StandardScaler()\n",
    "oh_transformer = OneHotEncoder(drop='first')\n",
    "\n",
    "preprocessor = ColumnTransformer(\n",
    "    [\n",
    "        (\"OneHotEncoder\", oh_transformer, onehot_columns),\n",
    "        (\"StandardScaler\", numeric_transformer, num_features)\n",
    "        \n",
    "    ],remainder='passthrough'\n",
    "    \n",
    ")"
   ]
  },
  {
   "cell_type": "code",
   "execution_count": 20,
   "id": "0206dc08-6f2c-4067-92c4-1741bd5dafb3",
   "metadata": {},
   "outputs": [],
   "source": [
    "## applying Trnsformation in training(fit_transform)\n",
    "X_train=preprocessor.fit_transform(X_train)"
   ]
  },
  {
   "cell_type": "code",
   "execution_count": 21,
   "id": "a6519006-7ae1-48ce-8004-c1ea6aa79f30",
   "metadata": {},
   "outputs": [],
   "source": [
    "## apply tansformation on test(transform)\n",
    "X_test=preprocessor.transform(X_test)"
   ]
  },
  {
   "cell_type": "code",
   "execution_count": 22,
   "id": "bb3bb7c9-38a6-4065-99ef-0c65dc89668a",
   "metadata": {},
   "outputs": [],
   "source": [
    "from sklearn.ensemble import AdaBoostRegressor\n",
    "from sklearn.metrics import r2_score, mean_absolute_error, mean_squared_error"
   ]
  },
  {
   "cell_type": "code",
   "execution_count": 23,
   "id": "105fd1e2-7007-46b2-885a-e41e735e0b2a",
   "metadata": {},
   "outputs": [],
   "source": [
    "##Create a Function to Evaluate Model\n",
    "def evaluate_model(true, predicted):\n",
    "    mae = mean_absolute_error(true, predicted)\n",
    "    mse = mean_squared_error(true, predicted)\n",
    "    rmse = np.sqrt(mean_squared_error(true, predicted))\n",
    "    r2_square = r2_score(true, predicted)\n",
    "    return mae, rmse, r2_square"
   ]
  },
  {
   "cell_type": "code",
   "execution_count": 24,
   "id": "d3f5d973-a2a8-40c3-bb20-4c1287627307",
   "metadata": {},
   "outputs": [
    {
     "name": "stdout",
     "output_type": "stream",
     "text": [
      "Adaboost Regressor\n",
      "Model performance for Training set\n",
      "- Root Mean Squared Error: 555221.3962\n",
      "- Mean Absolute Error: 481294.2314\n",
      "- R2 Score: 0.6199\n",
      "----------------------------------\n",
      "Model performance for Test set\n",
      "- Root Mean Squared Error: 576835.8403\n",
      "- Mean Absolute Error: 490918.6842\n",
      "- R2 Score: 0.5580\n",
      "===================================\n",
      "\n",
      "\n"
     ]
    }
   ],
   "source": [
    "## Beginning Model Training\n",
    "models = {\n",
    "    \"Adaboost Regressor\":AdaBoostRegressor()\n",
    "   \n",
    "}\n",
    "\n",
    "for i in range(len(list(models))):\n",
    "    model = list(models.values())[i]\n",
    "    model.fit(X_train, y_train) # Train model\n",
    "\n",
    "    # Make predictions\n",
    "    y_train_pred = model.predict(X_train)\n",
    "    y_test_pred = model.predict(X_test)\n",
    "    \n",
    "    # Evaluate Train and Test dataset\n",
    "    model_train_mae , model_train_rmse, model_train_r2 = evaluate_model(y_train, y_train_pred)\n",
    "\n",
    "    model_test_mae , model_test_rmse, model_test_r2 = evaluate_model(y_test, y_test_pred)\n",
    "\n",
    "    \n",
    "    print(list(models.keys())[i])\n",
    "    \n",
    "    print('Model performance for Training set')\n",
    "    print(\"- Root Mean Squared Error: {:.4f}\".format(model_train_rmse))\n",
    "    print(\"- Mean Absolute Error: {:.4f}\".format(model_train_mae))\n",
    "    print(\"- R2 Score: {:.4f}\".format(model_train_r2))\n",
    "\n",
    "    print('----------------------------------')\n",
    "    \n",
    "    print('Model performance for Test set')\n",
    "    print(\"- Root Mean Squared Error: {:.4f}\".format(model_test_rmse))\n",
    "    print(\"- Mean Absolute Error: {:.4f}\".format(model_test_mae))\n",
    "    print(\"- R2 Score: {:.4f}\".format(model_test_r2))\n",
    "    \n",
    "    print('='*35)\n",
    "    print('\\n')"
   ]
  },
  {
   "cell_type": "code",
   "execution_count": 25,
   "id": "43602c0a-8992-46dc-bf1a-8c123ac9cf91",
   "metadata": {},
   "outputs": [],
   "source": [
    "ada_params={\n",
    "    \"n_estimators\":[50,60,70,80],\n",
    "    \"loss\":['linear','square','exponential']\n",
    "}"
   ]
  },
  {
   "cell_type": "code",
   "execution_count": 26,
   "id": "f19b15b0-33c6-4ee6-856f-eaafd1742829",
   "metadata": {},
   "outputs": [],
   "source": [
    "# Models list for Hyperparameter tuning\n",
    "randomcv_models = [\n",
    "                   (\"Adaboost\",AdaBoostRegressor(),ada_params)\n",
    "                   ]"
   ]
  },
  {
   "cell_type": "code",
   "execution_count": 27,
   "id": "7b51f5a4-0cb5-4914-abe3-1e05edff4d63",
   "metadata": {},
   "outputs": [
    {
     "name": "stdout",
     "output_type": "stream",
     "text": [
      "Fitting 3 folds for each of 12 candidates, totalling 36 fits\n"
     ]
    },
    {
     "name": "stderr",
     "output_type": "stream",
     "text": [
      "C:\\Users\\nage\\develop\\adaboost\\env\\Lib\\site-packages\\sklearn\\model_selection\\_search.py:320: UserWarning: The total space of parameters 12 is smaller than n_iter=100. Running 12 iterations. For exhaustive searches, use GridSearchCV.\n",
      "  warnings.warn(\n"
     ]
    },
    {
     "name": "stdout",
     "output_type": "stream",
     "text": [
      "---------------- Best Params for Adaboost -------------------\n",
      "{'n_estimators': 60, 'loss': 'linear'}\n"
     ]
    }
   ],
   "source": [
    "##Hyperparameter Tuning\n",
    "from sklearn.model_selection import RandomizedSearchCV\n",
    "\n",
    "model_param = {}\n",
    "for name, model, params in randomcv_models:\n",
    "    random = RandomizedSearchCV(estimator=model,\n",
    "                                   param_distributions=params,\n",
    "                                   n_iter=100,\n",
    "                                   cv=3,\n",
    "                                   verbose=2,\n",
    "                                   n_jobs=-1)\n",
    "    random.fit(X_train, y_train)\n",
    "    model_param[name] = random.best_params_\n",
    "\n",
    "for model_name in model_param:\n",
    "    print(f\"---------------- Best Params for {model_name} -------------------\")\n",
    "    print(model_param[model_name])"
   ]
  },
  {
   "cell_type": "code",
   "execution_count": 29,
   "id": "d4fee8dc-d6d4-445d-a9e3-44aa8c5ca297",
   "metadata": {},
   "outputs": [
    {
     "name": "stdout",
     "output_type": "stream",
     "text": [
      "Adaboost Regressor\n",
      "Model performance for Training set\n",
      "- Root Mean Squared Error: 469338.0952\n",
      "- Mean Absolute Error: 353953.8083\n",
      "- R2 Score: 0.7284\n",
      "----------------------------------\n",
      "Model performance for Test set\n",
      "- Root Mean Squared Error: 501325.3505\n",
      "- Mean Absolute Error: 369109.8609\n",
      "- R2 Score: 0.6661\n",
      "===================================\n",
      "\n",
      "\n"
     ]
    }
   ],
   "source": [
    "model = AdaBoostRegressor(n_estimators= 50, loss= 'linear')\n",
    "\n",
    "model.fit(X_train, y_train) # Train model\n",
    "\n",
    "# Make predictions\n",
    "y_train_pred = model.predict(X_train)\n",
    "y_test_pred = model.predict(X_test)\n",
    "\n",
    "model_train_mae , model_train_rmse, model_train_r2 = evaluate_model(y_train, y_train_pred)\n",
    "\n",
    "model_test_mae , model_test_rmse, model_test_r2 = evaluate_model(y_test, y_test_pred)\n",
    "\n",
    "print(list(models.keys())[i])\n",
    "\n",
    "print('Model performance for Training set')\n",
    "print(\"- Root Mean Squared Error: {:.4f}\".format(model_train_rmse))\n",
    "print(\"- Mean Absolute Error: {:.4f}\".format(model_train_mae))\n",
    "print(\"- R2 Score: {:.4f}\".format(model_train_r2))\n",
    "\n",
    "print('----------------------------------')\n",
    "\n",
    "print('Model performance for Test set')\n",
    "print(\"- Root Mean Squared Error: {:.4f}\".format(model_test_rmse))\n",
    "print(\"- Mean Absolute Error: {:.4f}\".format(model_test_mae))\n",
    "print(\"- R2 Score: {:.4f}\".format(model_test_r2))\n",
    "\n",
    "print('='*35)\n",
    "print('\\n')"
   ]
  },
  {
   "cell_type": "code",
   "execution_count": 30,
   "id": "b5113510-97c4-4348-b9df-769398551d36",
   "metadata": {},
   "outputs": [],
   "source": [
    "import pickle"
   ]
  },
  {
   "cell_type": "code",
   "execution_count": 31,
   "id": "53e8572f-fca4-4aee-901e-5d6a1a11132b",
   "metadata": {},
   "outputs": [],
   "source": [
    "# Save the ColumnTransformer to a pickle file\n",
    "with open('preprocessor.pkl', 'wb') as file:\n",
    "    pickle.dump(preprocessor, file)"
   ]
  },
  {
   "cell_type": "code",
   "execution_count": 32,
   "id": "1a7306b0-c941-4271-ba48-c67a77d2978d",
   "metadata": {},
   "outputs": [],
   "source": [
    "# Save the ColumnTransformer to a pickle file\n",
    "with open('label_encoder.pkl', 'wb') as file:\n",
    "    pickle.dump(le, file)"
   ]
  },
  {
   "cell_type": "code",
   "execution_count": 33,
   "id": "abb444bb-4f7b-43f3-8605-bd3a6e3c0ceb",
   "metadata": {},
   "outputs": [],
   "source": [
    "# Save the ColumnTransformer to a pickle file\n",
    "with open('model.pkl', 'wb') as file:\n",
    "    pickle.dump(model, file)"
   ]
  },
  {
   "cell_type": "code",
   "execution_count": null,
   "id": "b9bbedf1-ba3a-4a5a-b5ba-fc830da6a19f",
   "metadata": {},
   "outputs": [],
   "source": []
  }
 ],
 "metadata": {
  "kernelspec": {
   "display_name": "Python 3 (ipykernel)",
   "language": "python",
   "name": "python3"
  },
  "language_info": {
   "codemirror_mode": {
    "name": "ipython",
    "version": 3
   },
   "file_extension": ".py",
   "mimetype": "text/x-python",
   "name": "python",
   "nbconvert_exporter": "python",
   "pygments_lexer": "ipython3",
   "version": "3.12.5"
  }
 },
 "nbformat": 4,
 "nbformat_minor": 5
}
